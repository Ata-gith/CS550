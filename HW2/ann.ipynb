{
 "cells": [
  {
   "cell_type": "code",
   "execution_count": 6,
   "metadata": {},
   "outputs": [],
   "source": [
    "import numpy as np\n",
    "import matplotlib as plt\n",
    "from random import seed\n",
    "from random import random\n",
    "seed(423534)"
   ]
  },
  {
   "cell_type": "code",
   "execution_count": 7,
   "metadata": {},
   "outputs": [],
   "source": [
    "\n",
    "def initialize_network(n_inputs, n_hidden, n_outputs):\n",
    " \n",
    "\n",
    " network = list()\n",
    " hidden_layer = [{'weights':[random() for i in range(n_inputs + 1)]} for i in range(n_hidden)]\n",
    " network.append(hidden_layer)\n",
    " output_layer = [{'weights':[random() for i in range(n_hidden + 1)]} for i in range(n_outputs)]\n",
    " network.append(output_layer)\n",
    "\n",
    "\n",
    " return network"
   ]
  },
  {
   "cell_type": "code",
   "execution_count": 10,
   "metadata": {},
   "outputs": [
    {
     "name": "stdout",
     "output_type": "stream",
     "text": [
      "[{'weights': [0.5910995829313176, 0.3012676595157123]}, {'weights': [0.031011751469749993, 0.8655272369789456]}, {'weights': [0.47274908866546683, 0.7188239240658031]}, {'weights': [0.8788128002554817, 0.7141294836112025]}, {'weights': [0.9210986675838745, 0.3949634040007439]}]\n",
      "[{'weights': [0.8009087709852283, 0.44462105605076063, 0.9355867217045211, 0.8788666603380416, 0.09745430973087721, 0.1359688602006689]}]\n"
     ]
    }
   ],
   "source": [
    "hidden_layer_size = 4\n",
    "network = initialize_network(1, hidden_layer_size, 1)\n",
    "for layer in network:\n",
    " print(layer)"
   ]
  },
  {
   "cell_type": "code",
   "execution_count": 15,
   "metadata": {},
   "outputs": [],
   "source": [
    "def initialize_linreg():\n",
    "    network = list()\n",
    "    output_layer = [{'weights':[random() for i in range(2)]}]\n",
    "    network.append(output_layer)\n",
    "    \n",
    "    return network"
   ]
  },
  {
   "cell_type": "code",
   "execution_count": 30,
   "metadata": {},
   "outputs": [
    {
     "name": "stdout",
     "output_type": "stream",
     "text": [
      "[{'weights': [0.16309962197106975, 0.8606375331162682]}]\n"
     ]
    }
   ],
   "source": [
    "linreg=initialize_linreg()\n",
    "for x in linreg:\n",
    "    print(x)"
   ]
  },
  {
   "cell_type": "code",
   "execution_count": 21,
   "metadata": {},
   "outputs": [],
   "source": [
    "def calculate_neuron(weights, inputs):\n",
    "    activation = weights[-1]\n",
    "    \n",
    "    for i in range(len(weights)-1):\n",
    "        activation += weights[i] * inputs[i]\n",
    "    \n",
    "    return activation"
   ]
  },
  {
   "cell_type": "code",
   "execution_count": 22,
   "metadata": {},
   "outputs": [],
   "source": [
    "def forward(network,input):\n",
    "    layer_input=input\n",
    "    for layer in network:\n",
    "        next_inputs = []\n",
    "        for neuron in layer:\n",
    "            calculated = calculate_neuron(neuron['weights'],layer_input)\n",
    "            neuron['output']=calculated\n",
    "            next_inputs.append(neuron['output'])\n",
    "        layer_input=next_inputs\n",
    "    return layer_input\n"
   ]
  },
  {
   "cell_type": "code",
   "execution_count": 32,
   "metadata": {},
   "outputs": [
    {
     "name": "stdout",
     "output_type": "stream",
     "text": [
      "[1.023737155087338]\n"
     ]
    }
   ],
   "source": [
    "row = [1,None]\n",
    "output = forward(linreg,row)\n",
    "print(output)"
   ]
  }
 ],
 "metadata": {
  "kernelspec": {
   "display_name": "Python 3",
   "language": "python",
   "name": "python3"
  },
  "language_info": {
   "codemirror_mode": {
    "name": "ipython",
    "version": 3
   },
   "file_extension": ".py",
   "mimetype": "text/x-python",
   "name": "python",
   "nbconvert_exporter": "python",
   "pygments_lexer": "ipython3",
   "version": "3.9.2"
  },
  "orig_nbformat": 4
 },
 "nbformat": 4,
 "nbformat_minor": 2
}
