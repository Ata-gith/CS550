{
  "cells": [
    {
      "cell_type": "code",
      "execution_count": 40,
      "metadata": {
        "id": "IB-GJVvcNTCz"
      },
      "outputs": [],
      "source": [
        "import numpy as np\n",
        "from sklearn import datasets\n",
        "\n",
        "import torch\n",
        "import torch.nn as nn\n",
        "import torch.optim as optim\n"
      ]
    },
    {
      "cell_type": "code",
      "execution_count": 41,
      "metadata": {
        "id": "KfTBGGoINVe8"
      },
      "outputs": [],
      "source": [
        "import matplotlib.pyplot as plt\n",
        "%matplotlib inline"
      ]
    },
    {
      "cell_type": "code",
      "execution_count": 42,
      "metadata": {
        "id": "hNl0DiE_Noq-"
      },
      "outputs": [],
      "source": [
        "import pandas as pd\n",
        "\n",
        "df = pd.read_csv('life_expectancy.csv')"
      ]
    },
    {
      "cell_type": "code",
      "execution_count": 43,
      "metadata": {
        "id": "p-p8sr7AOCKW"
      },
      "outputs": [],
      "source": [
        "data_arr = np.array(df.iloc[:]).T[3:-1].T.astype(np.float64)"
      ]
    },
    {
      "cell_type": "code",
      "execution_count": 44,
      "metadata": {
        "id": "rm5llMp0RYZo"
      },
      "outputs": [],
      "source": [
        "new_data_arr = []\n",
        "for data in data_arr:\n",
        "  if np.sum(data) == np.sum(data):\n",
        "    new_data_arr.append(data)\n",
        "\n",
        "new_data_arr = np.array(new_data_arr)"
      ]
    },
    {
      "cell_type": "code",
      "execution_count": 45,
      "metadata": {
        "id": "9myDn_gpQHFO"
      },
      "outputs": [],
      "source": [
        "new_data_arr_norm = new_data_arr / np.mean(new_data_arr, axis = 0)\n",
        "p = np.random.permutation(len(new_data_arr_norm))\n",
        "new_data_arr_norm = new_data_arr_norm[p]"
      ]
    },
    {
      "cell_type": "code",
      "execution_count": 46,
      "metadata": {
        "id": "7-5_IGP2TSqy"
      },
      "outputs": [
        {
          "name": "stdout",
          "output_type": "stream",
          "text": [
            "0.992462967607096\n"
          ]
        }
      ],
      "source": [
        "tr_data = new_data_arr_norm[0:1200]\n",
        "ts_data = new_data_arr_norm[1200:]\n",
        "\n",
        "print(np.mean(tr_data))"
      ]
    },
    {
      "cell_type": "code",
      "execution_count": 47,
      "metadata": {
        "id": "C3CDituyS15w"
      },
      "outputs": [],
      "source": [
        "tr_data_x = torch.from_numpy(tr_data.T[1:-1].T.astype(np.float32))\n",
        "tr_data_y = torch.from_numpy(np.expand_dims(tr_data.T[0].T, axis = -1).astype(np.float32))\n",
        "\n",
        "ts_data_x = torch.from_numpy(ts_data.T[1:-1].T.astype(np.float32))\n",
        "ts_data_y = torch.from_numpy(np.expand_dims(ts_data.T[0].T, axis = -1).astype(np.float32))"
      ]
    },
    {
      "cell_type": "code",
      "execution_count": 48,
      "metadata": {
        "id": "DmevqGyuNaFN"
      },
      "outputs": [],
      "source": [
        "model = nn.Sequential(\n",
        "    nn.Linear(in_features=16, out_features=128),\n",
        "    nn.Tanh(),\n",
        "    nn.Linear(in_features=128, out_features=1),\n",
        ")"
      ]
    },
    {
      "cell_type": "code",
      "execution_count": 49,
      "metadata": {
        "id": "iLmopaxUUIRw"
      },
      "outputs": [],
      "source": [
        "mse_loss = nn.MSELoss()\n",
        "optimizer = optim.Adam(model.parameters(), lr=0.01)"
      ]
    },
    {
      "cell_type": "code",
      "execution_count": 50,
      "metadata": {
        "id": "NTBgekkTUOPW"
      },
      "outputs": [],
      "source": [
        "cost_arr = []\n",
        "for step in range(400):\n",
        "    pre = model(tr_data_x)\n",
        "    mse = mse_loss(pre, tr_data_y)\n",
        "    cost = mse\n",
        "    cost_arr.append(cost.item())\n",
        "    optimizer.zero_grad()\n",
        "    cost.backward()\n",
        "    optimizer.step()"
      ]
    },
    {
      "cell_type": "code",
      "execution_count": 51,
      "metadata": {
        "colab": {
          "base_uri": "https://localhost:8080/",
          "height": 447
        },
        "id": "NTR1wQxDhC2e",
        "outputId": "d86d127b-fa89-4cb1-a9d0-65e874d64a69"
      },
      "outputs": [
        {
          "data": {
            "text/plain": [
              "[<matplotlib.lines.Line2D at 0x16c399d88e0>]"
            ]
          },
          "execution_count": 51,
          "metadata": {},
          "output_type": "execute_result"
        },
        {
          "data": {
            "image/png": "[encoded data removed]",
            "text/plain": [
              "<Figure size 432x288 with 1 Axes>"
            ]
          },
          "metadata": {
            "needs_background": "light"
          },
          "output_type": "display_data"
        }
      ],
      "source": [
        "plt.plot(cost_arr)"
      ]
    },
    {
      "cell_type": "code",
      "execution_count": 52,
      "metadata": {
        "colab": {
          "base_uri": "https://localhost:8080/"
        },
        "id": "SNCe1iAUU_S2",
        "outputId": "78b1d495-1dd5-4cd3-b3f1-27818b26493d"
      },
      "outputs": [
        {
          "data": {
            "text/plain": [
              "8.778581309159243"
            ]
          },
          "execution_count": 52,
          "metadata": {},
          "output_type": "execute_result"
        }
      ],
      "source": [
        "np.sum((((model(ts_data_x)-ts_data_y)*69.3).detach().numpy())**2)/len(ts_data_y)"
      ]
    },
    {
      "cell_type": "code",
      "execution_count": 53,
      "metadata": {
        "colab": {
          "base_uri": "https://localhost:8080/"
        },
        "id": "3Zjh4bOahxJe",
        "outputId": "ba2263de-d393-4186-d022-cabb0d04416a"
      },
      "outputs": [
        {
          "data": {
            "text/plain": [
              "8.417166"
            ]
          },
          "execution_count": 53,
          "metadata": {},
          "output_type": "execute_result"
        }
      ],
      "source": [
        "np.std(ts_data_y.detach().numpy()*69.3)"
      ]
    },
    {
      "cell_type": "code",
      "execution_count": 54,
      "metadata": {
        "colab": {
          "base_uri": "https://localhost:8080/"
        },
        "id": "6hvBbf2Hhf0F",
        "outputId": "4d42b837-928e-49c5-80f1-34800a06b2ec"
      },
      "outputs": [
        {
          "data": {
            "text/plain": [
              "tensor([[ 1.2319e+00],\n",
              "        [-1.4246e+00],\n",
              "        [-1.7000e+00],\n",
              "        [ 2.4498e+00],\n",
              "        [-6.2097e+00],\n",
              "        [-3.6594e+00],\n",
              "        [-2.3226e-01],\n",
              "        [ 5.4640e+00],\n",
              "        [ 1.0971e+00],\n",
              "        [ 9.3484e-02],\n",
              "        [ 5.2186e-02],\n",
              "        [-2.4503e+00],\n",
              "        [ 2.4939e+00],\n",
              "        [ 2.2280e-02],\n",
              "        [ 1.0888e+00],\n",
              "        [-2.1899e+00],\n",
              "        [-5.5631e+00],\n",
              "        [-1.2635e+00],\n",
              "        [ 3.2168e+00],\n",
              "        [ 1.5948e+00],\n",
              "        [-2.0614e+00],\n",
              "        [ 3.1192e+00],\n",
              "        [-7.8470e+00],\n",
              "        [ 1.9004e+00],\n",
              "        [ 9.5688e-01],\n",
              "        [-2.0952e-01],\n",
              "        [-2.2976e+00],\n",
              "        [-1.6303e+00],\n",
              "        [ 1.6344e+00],\n",
              "        [ 1.5522e-01],\n",
              "        [-1.4937e+00],\n",
              "        [ 1.3671e+00],\n",
              "        [-1.8967e+00],\n",
              "        [ 6.8917e+00],\n",
              "        [-6.1557e-01],\n",
              "        [-4.7995e+00],\n",
              "        [ 2.5463e+00],\n",
              "        [-3.3393e+00],\n",
              "        [-8.8077e+00],\n",
              "        [-3.7580e+00],\n",
              "        [ 2.4086e-01],\n",
              "        [-2.8138e+00],\n",
              "        [ 3.9154e+00],\n",
              "        [-2.9373e+00],\n",
              "        [-7.2450e-01],\n",
              "        [-6.7963e-01],\n",
              "        [ 3.7938e+00],\n",
              "        [ 1.0376e+00],\n",
              "        [-2.0018e+00],\n",
              "        [-2.7710e-01],\n",
              "        [-3.0221e+00],\n",
              "        [-1.8577e+00],\n",
              "        [ 2.4101e+00],\n",
              "        [ 4.2922e+00],\n",
              "        [ 8.2538e-02],\n",
              "        [-3.9761e-01],\n",
              "        [ 6.5514e-01],\n",
              "        [ 4.4692e+00],\n",
              "        [-5.6572e-01],\n",
              "        [-2.2780e-01],\n",
              "        [ 1.3994e+00],\n",
              "        [ 6.0244e-01],\n",
              "        [-6.1257e-03],\n",
              "        [ 2.5298e+00],\n",
              "        [-3.7676e+00],\n",
              "        [-3.3717e+00],\n",
              "        [-3.3878e+00],\n",
              "        [-7.5459e+00],\n",
              "        [ 5.2473e+00],\n",
              "        [-2.3283e+00],\n",
              "        [-1.3628e-01],\n",
              "        [-2.8661e+00],\n",
              "        [ 2.3993e+00],\n",
              "        [-3.0266e+00],\n",
              "        [-3.2718e+00],\n",
              "        [ 1.7402e+00],\n",
              "        [-4.9493e-01],\n",
              "        [ 2.1778e+00],\n",
              "        [ 5.6553e+00],\n",
              "        [-1.3641e+00],\n",
              "        [-4.8061e+00],\n",
              "        [-1.4839e+00],\n",
              "        [-8.8182e-01],\n",
              "        [-2.0804e+00],\n",
              "        [-2.6989e-01],\n",
              "        [-6.3364e+00],\n",
              "        [ 1.7610e+00],\n",
              "        [-2.8611e+00],\n",
              "        [ 1.3756e-01],\n",
              "        [-1.2319e+00],\n",
              "        [ 3.8143e+00],\n",
              "        [-3.9520e+00],\n",
              "        [-8.3314e+00],\n",
              "        [ 6.2076e-01],\n",
              "        [-3.6076e-01],\n",
              "        [ 1.9022e+00],\n",
              "        [ 1.1327e+00],\n",
              "        [ 7.9021e-01],\n",
              "        [ 1.5133e+00],\n",
              "        [-2.2693e-01],\n",
              "        [ 2.1345e+00],\n",
              "        [ 2.8408e-01],\n",
              "        [-2.7073e+00],\n",
              "        [ 2.3871e+00],\n",
              "        [-1.1837e+00],\n",
              "        [-3.2092e-01],\n",
              "        [-3.5065e+00],\n",
              "        [ 3.9340e-02],\n",
              "        [ 2.5531e+00],\n",
              "        [ 3.3475e+00],\n",
              "        [ 2.2746e+00],\n",
              "        [ 4.5817e-01],\n",
              "        [-5.6930e+00],\n",
              "        [ 7.1320e-01],\n",
              "        [ 2.6506e+00],\n",
              "        [ 1.1817e+00],\n",
              "        [-1.3035e+00],\n",
              "        [ 1.3969e+00],\n",
              "        [ 5.0584e-01],\n",
              "        [ 1.6369e+00],\n",
              "        [ 1.5691e+00],\n",
              "        [ 2.2339e+00],\n",
              "        [ 2.2921e+00],\n",
              "        [ 1.5781e+00],\n",
              "        [ 3.6450e+00],\n",
              "        [-7.2606e-01],\n",
              "        [-2.6480e-01],\n",
              "        [-3.3704e+00],\n",
              "        [ 1.0485e+00],\n",
              "        [-3.1407e+00],\n",
              "        [-8.9247e-01],\n",
              "        [ 7.5206e+00],\n",
              "        [ 1.2440e+00],\n",
              "        [-2.7335e+00],\n",
              "        [ 6.0058e+00],\n",
              "        [ 1.4170e+00],\n",
              "        [ 1.4766e+00],\n",
              "        [ 1.4491e+00],\n",
              "        [ 6.6542e-01],\n",
              "        [ 2.1703e+00],\n",
              "        [ 3.2891e+00],\n",
              "        [ 3.5523e-01],\n",
              "        [-1.1461e+00],\n",
              "        [ 3.4546e-01],\n",
              "        [ 5.7917e+00],\n",
              "        [-1.7711e+00],\n",
              "        [ 5.4864e-01],\n",
              "        [-2.2048e+00],\n",
              "        [-2.1508e+00],\n",
              "        [-4.0958e-01],\n",
              "        [-4.3378e+00],\n",
              "        [ 1.1406e+00],\n",
              "        [ 4.0606e+00],\n",
              "        [-9.0338e-01],\n",
              "        [ 1.6769e+00],\n",
              "        [-1.7293e+00],\n",
              "        [ 1.1376e+00],\n",
              "        [-2.1614e+00],\n",
              "        [-3.0038e-01],\n",
              "        [-2.9159e+00],\n",
              "        [ 4.1858e+00],\n",
              "        [-2.1288e+00],\n",
              "        [-5.0908e-01],\n",
              "        [ 6.7572e-01],\n",
              "        [ 4.4401e-01],\n",
              "        [ 1.2447e+00],\n",
              "        [ 1.0753e+00],\n",
              "        [ 3.6722e+00],\n",
              "        [ 8.9922e+00],\n",
              "        [ 9.2828e-01],\n",
              "        [-2.0843e+00],\n",
              "        [-2.5341e+00],\n",
              "        [-9.9991e+00],\n",
              "        [ 1.7490e+00],\n",
              "        [-9.9262e-01],\n",
              "        [ 2.5816e+00],\n",
              "        [-2.0747e+00],\n",
              "        [ 6.3402e-01],\n",
              "        [-5.5955e+00],\n",
              "        [ 5.1302e-01],\n",
              "        [-1.8217e+00],\n",
              "        [ 4.5201e-01],\n",
              "        [ 4.3684e-01],\n",
              "        [ 3.6394e+00],\n",
              "        [ 1.5072e+00],\n",
              "        [-1.2791e+01],\n",
              "        [-3.9283e-01],\n",
              "        [-1.8909e+00],\n",
              "        [ 7.2134e-01],\n",
              "        [-1.0360e+00],\n",
              "        [ 2.3791e-01],\n",
              "        [ 4.4251e-01],\n",
              "        [-1.7050e-01],\n",
              "        [-3.5440e+00],\n",
              "        [ 1.2123e+00],\n",
              "        [-4.1399e-01],\n",
              "        [ 3.1886e+00],\n",
              "        [-3.7052e-01],\n",
              "        [ 3.9780e+00],\n",
              "        [ 3.8966e+00],\n",
              "        [-1.5271e+00],\n",
              "        [ 4.3530e-01],\n",
              "        [ 1.1297e+00],\n",
              "        [ 1.5420e+00],\n",
              "        [ 2.9022e+00],\n",
              "        [-2.3319e+00],\n",
              "        [ 4.4226e-01],\n",
              "        [ 1.9388e+00],\n",
              "        [ 2.1798e+00],\n",
              "        [ 3.4510e+00],\n",
              "        [-6.7591e+00],\n",
              "        [-2.1495e+00],\n",
              "        [-2.8119e+00],\n",
              "        [ 8.8068e-01],\n",
              "        [ 6.2099e-01],\n",
              "        [-2.1688e+00],\n",
              "        [ 1.2669e-01],\n",
              "        [ 2.0549e+00],\n",
              "        [-1.7659e-01],\n",
              "        [-2.3253e+00],\n",
              "        [-2.2117e+00],\n",
              "        [-5.2787e-01],\n",
              "        [-5.3207e-01],\n",
              "        [ 3.0585e+00],\n",
              "        [-2.8089e-01],\n",
              "        [-1.4030e+00],\n",
              "        [ 2.0525e+00],\n",
              "        [ 2.3271e+00],\n",
              "        [-3.6551e+00],\n",
              "        [-4.5091e+00],\n",
              "        [ 5.0703e-01],\n",
              "        [ 1.0041e+00],\n",
              "        [ 6.4408e+00],\n",
              "        [-1.6234e+00],\n",
              "        [-1.2773e+00],\n",
              "        [ 5.4280e+00],\n",
              "        [ 2.0545e-01],\n",
              "        [ 5.9931e-01],\n",
              "        [ 1.6779e+00],\n",
              "        [-1.1290e+00],\n",
              "        [-4.2976e+00],\n",
              "        [-1.0097e+00],\n",
              "        [ 4.6782e+00],\n",
              "        [-1.0469e+00],\n",
              "        [ 1.2261e+00],\n",
              "        [-4.0816e+00],\n",
              "        [ 1.8373e-02],\n",
              "        [-1.4556e-02],\n",
              "        [-2.3498e+00],\n",
              "        [-4.4145e+00],\n",
              "        [-6.8023e+00],\n",
              "        [ 3.6790e+00],\n",
              "        [-6.0909e+00],\n",
              "        [-1.0525e+01],\n",
              "        [-5.4499e+00],\n",
              "        [ 7.0428e+00],\n",
              "        [-1.9732e+00],\n",
              "        [ 6.1309e+00],\n",
              "        [-1.0738e+00],\n",
              "        [-3.1144e+00],\n",
              "        [-1.3915e+00],\n",
              "        [-2.0871e+00],\n",
              "        [-1.5707e+00],\n",
              "        [-2.0242e+00],\n",
              "        [ 1.4350e+00],\n",
              "        [-1.8733e+00],\n",
              "        [-2.8871e+00],\n",
              "        [ 2.6666e+00],\n",
              "        [ 1.6208e+00],\n",
              "        [ 2.9378e+00],\n",
              "        [ 1.6460e+00],\n",
              "        [-9.5190e-01],\n",
              "        [-4.8515e+00],\n",
              "        [-8.5417e-02],\n",
              "        [ 4.8745e+00],\n",
              "        [-3.5142e-01],\n",
              "        [-2.6596e+00],\n",
              "        [-2.4009e+00],\n",
              "        [ 2.3951e+00],\n",
              "        [ 1.2862e+00],\n",
              "        [ 1.2528e+00],\n",
              "        [-8.0182e-01],\n",
              "        [-4.5260e-01],\n",
              "        [-3.9612e-01],\n",
              "        [ 3.9853e+00],\n",
              "        [ 4.1172e+00],\n",
              "        [ 5.6037e-01],\n",
              "        [ 7.1687e-01],\n",
              "        [-5.7943e+00],\n",
              "        [-1.8630e+00],\n",
              "        [ 3.0587e+00],\n",
              "        [-1.8989e-01],\n",
              "        [-2.1803e+00],\n",
              "        [ 2.4529e+00],\n",
              "        [-9.5228e-01],\n",
              "        [-1.6475e+00],\n",
              "        [ 1.5556e+00],\n",
              "        [-2.3919e+00],\n",
              "        [ 3.7658e+00],\n",
              "        [ 1.3118e+00],\n",
              "        [ 6.1449e+00],\n",
              "        [ 1.1019e+00],\n",
              "        [-5.2923e+00],\n",
              "        [-5.9324e-02],\n",
              "        [ 2.8614e+00],\n",
              "        [-1.2470e+00],\n",
              "        [-5.6522e+00],\n",
              "        [-4.0029e+00],\n",
              "        [-2.0754e+00],\n",
              "        [-3.9865e+00],\n",
              "        [-1.7530e+00],\n",
              "        [-5.8605e+00],\n",
              "        [ 3.1594e-01],\n",
              "        [-1.2170e+00],\n",
              "        [-2.9117e+00],\n",
              "        [ 8.5522e-01],\n",
              "        [-6.8768e-01],\n",
              "        [-1.3252e+00],\n",
              "        [ 7.7402e+00],\n",
              "        [-1.3584e+00],\n",
              "        [-1.2312e+00],\n",
              "        [-6.6483e-01],\n",
              "        [ 5.0074e+00],\n",
              "        [-1.8067e+00],\n",
              "        [ 1.7620e+00],\n",
              "        [ 1.9174e+00],\n",
              "        [-1.4357e+00],\n",
              "        [-3.5025e+00],\n",
              "        [ 5.8309e+00],\n",
              "        [ 9.0447e-01],\n",
              "        [-6.2824e+00],\n",
              "        [-5.2564e+00],\n",
              "        [-1.3733e+00],\n",
              "        [ 1.0423e+00],\n",
              "        [ 9.5028e-01],\n",
              "        [ 4.0726e+00],\n",
              "        [ 1.3262e+00],\n",
              "        [-4.3323e-01],\n",
              "        [-1.6912e+00],\n",
              "        [-2.0637e+00],\n",
              "        [-6.1986e+00],\n",
              "        [ 5.8639e+00],\n",
              "        [-2.2979e+00],\n",
              "        [ 8.8282e-01],\n",
              "        [ 4.3598e-01],\n",
              "        [ 7.4708e-01],\n",
              "        [-4.4956e+00],\n",
              "        [-9.8060e-02],\n",
              "        [ 3.9544e-01],\n",
              "        [ 4.2462e-01],\n",
              "        [ 9.9381e-01],\n",
              "        [ 9.2135e-01],\n",
              "        [-7.6405e-01],\n",
              "        [ 4.2112e+00],\n",
              "        [-3.2414e+00],\n",
              "        [ 1.1877e+00],\n",
              "        [ 9.3798e-02],\n",
              "        [-2.4316e+00],\n",
              "        [-1.5322e+00],\n",
              "        [ 1.4474e+00],\n",
              "        [ 9.5619e-01],\n",
              "        [-9.5414e-01],\n",
              "        [ 2.9577e-01],\n",
              "        [ 1.9964e+00],\n",
              "        [ 6.4045e-02],\n",
              "        [-5.0025e-01],\n",
              "        [ 7.0023e-01],\n",
              "        [ 1.3038e+00],\n",
              "        [-6.5323e-01],\n",
              "        [ 2.6407e+00],\n",
              "        [-3.7971e+00],\n",
              "        [-2.5624e+00],\n",
              "        [ 1.1245e+00],\n",
              "        [-6.6831e-01],\n",
              "        [-4.9994e-01],\n",
              "        [ 5.0449e-01],\n",
              "        [-1.5118e+00],\n",
              "        [ 3.2983e-02],\n",
              "        [ 5.5813e-02],\n",
              "        [ 9.0113e-01],\n",
              "        [-1.8242e+00],\n",
              "        [-4.0264e-01],\n",
              "        [-1.4986e-01],\n",
              "        [-2.7478e+00],\n",
              "        [-6.2521e+00],\n",
              "        [-1.1130e+00],\n",
              "        [ 2.4929e+00],\n",
              "        [ 2.7382e+00],\n",
              "        [-2.0943e+00],\n",
              "        [ 6.8153e+00],\n",
              "        [ 2.6592e+00],\n",
              "        [-1.7660e-01],\n",
              "        [-1.1097e+00],\n",
              "        [-1.4451e+00],\n",
              "        [ 4.2545e-02],\n",
              "        [-1.3306e+00],\n",
              "        [-9.7806e-01],\n",
              "        [ 1.1551e+00],\n",
              "        [ 8.0570e-01],\n",
              "        [-2.1595e-02],\n",
              "        [ 1.2809e+00],\n",
              "        [ 9.2027e-01],\n",
              "        [-1.0787e+00],\n",
              "        [-2.0116e+00],\n",
              "        [ 2.9117e+00],\n",
              "        [ 2.0876e+00],\n",
              "        [-2.2963e+00],\n",
              "        [-4.2956e+00],\n",
              "        [-2.3439e+00],\n",
              "        [-2.7911e+00],\n",
              "        [ 1.6228e+00],\n",
              "        [-3.5002e+00],\n",
              "        [-8.2056e-01],\n",
              "        [ 3.7366e+00],\n",
              "        [-1.4604e+00],\n",
              "        [ 3.2454e+00],\n",
              "        [-9.5673e-02],\n",
              "        [ 6.2025e+00],\n",
              "        [ 1.2771e+00],\n",
              "        [-2.3988e-01],\n",
              "        [ 1.7975e+00],\n",
              "        [ 3.1703e-01],\n",
              "        [ 5.7328e+00],\n",
              "        [ 2.6786e+00],\n",
              "        [ 5.2601e-01],\n",
              "        [-4.8567e+00],\n",
              "        [-3.2798e-01],\n",
              "        [ 1.3510e+00],\n",
              "        [ 2.9303e+00],\n",
              "        [-3.6960e+00],\n",
              "        [ 9.8977e-01],\n",
              "        [ 1.2845e+00],\n",
              "        [ 2.2014e+00],\n",
              "        [ 2.5788e+00],\n",
              "        [-2.0944e+00],\n",
              "        [-9.7660e-02],\n",
              "        [-2.7639e+00],\n",
              "        [-2.6757e+00],\n",
              "        [-8.0929e+00],\n",
              "        [ 6.2594e-01],\n",
              "        [-1.0566e-02],\n",
              "        [-6.2548e+00],\n",
              "        [ 3.5980e-01],\n",
              "        [-2.9914e-02],\n",
              "        [ 5.2119e+00],\n",
              "        [-2.3859e-01],\n",
              "        [ 3.1451e+00],\n",
              "        [-6.0866e-01],\n",
              "        [-1.6213e+00]], grad_fn=<MulBackward0>)"
            ]
          },
          "execution_count": 54,
          "metadata": {},
          "output_type": "execute_result"
        }
      ],
      "source": [
        "((model(ts_data_x)-ts_data_y)*69.3)"
      ]
    },
    {
      "cell_type": "code",
      "execution_count": 55,
      "metadata": {
        "colab": {
          "base_uri": "https://localhost:8080/"
        },
        "id": "e1g5ae66VXG6",
        "outputId": "9a7276a6-b749-44b8-b9ea-d53668853e20"
      },
      "outputs": [
        {
          "data": {
            "text/plain": [
              "69.30230442692543"
            ]
          },
          "execution_count": 55,
          "metadata": {},
          "output_type": "execute_result"
        }
      ],
      "source": [
        "np.mean(new_data_arr, axis = 0)[0]"
      ]
    },
    {
      "cell_type": "code",
      "execution_count": 60,
      "metadata": {
        "colab": {
          "base_uri": "https://localhost:8080/"
        },
        "id": "1icSh-XiVpUx",
        "outputId": "4c09048f-bca3-4b55-c3b2-f15f7b4dcc40"
      },
      "outputs": [
        {
          "name": "stdout",
          "output_type": "stream",
          "text": [
            "-0.0024698568\n"
          ]
        },
        {
          "data": {
            "text/plain": [
              "(array([  1.,   3.,   8.,  25.,  74., 135., 133.,  47.,  17.,   6.]),\n",
              " array([-0.1845671 , -0.1531347 , -0.1217023 , -0.09026991, -0.05883751,\n",
              "        -0.02740511,  0.00402728,  0.03545968,  0.06689207,  0.09832447,\n",
              "         0.12975687], dtype=float32),\n",
              " <BarContainer object of 10 artists>)"
            ]
          },
          "execution_count": 60,
          "metadata": {},
          "output_type": "execute_result"
        },
        {
          "data": {
            "image/png": "[encoded data removed]",
            "text/plain": [
              "<Figure size 432x288 with 1 Axes>"
            ]
          },
          "metadata": {
            "needs_background": "light"
          },
          "output_type": "display_data"
        }
      ],
      "source": [
        "acc=((model(ts_data_x)-ts_data_y))\n",
        "#print(acc)\n",
        "acc=acc.detach().numpy()\n",
        "print(np.mean(acc))\n",
        "plt.hist(acc)"
      ]
    },
    {
      "attachments": {},
      "cell_type": "markdown",
      "metadata": {
        "id": "uue0S0_PkCkA"
      },
      "source": [
        "Sunum\n",
        "Ali\n",
        "\n",
        "1.   Paper ne yapıyor? (2-3 slide)\n",
        "2.   Bizim dataset ne? (2 slide)\n",
        "3.   Hangi modelleri kullanıyoruz (1 Slide)\n",
        "4.   NN (Niye NN basit, BNN ile karşılaştırmak için, makalede öyle olduğu için) (1-2 Slide) \n",
        "\n",
        "\n",
        "Ata\n",
        "5.  BNN (Makalede o şekilde. Variational Inference Anlatılacak) (2-3 Slide)\n",
        "6.  Fourier Analysis (Feature selection gibi) (1 slide)\n",
        "7.  Results-Comparison, why BNN is better? (3-4 Slide)\n",
        "8.  Most Relevant feature (1-2 slide)"
      ]
    },
    {
      "cell_type": "code",
      "execution_count": 63,
      "metadata": {},
      "outputs": [
        {
          "data": {
            "text/plain": [
              "[<matplotlib.lines.Line2D at 0x16c39da6400>]"
            ]
          },
          "execution_count": 63,
          "metadata": {},
          "output_type": "execute_result"
        },
        {
          "data": {
            "image/png": "[encoded data removed]",
            "text/plain": [
              "<Figure size 432x288 with 1 Axes>"
            ]
          },
          "metadata": {
            "needs_background": "light"
          },
          "output_type": "display_data"
        }
      ],
      "source": [
        "trrx=model(tr_data_x).detach().numpy()\n",
        "trry=tr_data_y.detach().numpy()\n",
        "\n",
        "plt.plot(trrx)\n",
        "plt.plot(trry,alpha=0.3)"
      ]
    }
  ],
  "metadata": {
    "colab": {
      "provenance": []
    },
    "kernelspec": {
      "display_name": "Python 3",
      "name": "python3"
    },
    "language_info": {
      "codemirror_mode": {
        "name": "ipython",
        "version": 3
      },
      "file_extension": ".py",
      "mimetype": "text/x-python",
      "name": "python",
      "nbconvert_exporter": "python",
      "pygments_lexer": "ipython3",
      "version": "3.9.6"
    }
  },
  "nbformat": 4,
  "nbformat_minor": 0
}
